{
 "cells": [
  {
   "cell_type": "code",
   "execution_count": 8,
   "metadata": {
    "tags": []
   },
   "outputs": [
    {
     "output_type": "stream",
     "name": "stdout",
     "text": "Defaulting to user installation because normal site-packages is not writeable\nRequirement already satisfied: umap-learn in /home/saehrimnir/.local/lib/python3.8/site-packages (0.4.4)\nRequirement already satisfied: numba!=0.47,>=0.46 in /home/saehrimnir/.local/lib/python3.8/site-packages (from umap-learn) (0.50.0)\nRequirement already satisfied: tbb in /home/saehrimnir/.local/lib/python3.8/site-packages (from umap-learn) (2020.0.133)\nRequirement already satisfied: scipy>=1.3.1 in /home/saehrimnir/.local/lib/python3.8/site-packages (from umap-learn) (1.4.1)\nRequirement already satisfied: scikit-learn>=0.20 in /home/saehrimnir/.local/lib/python3.8/site-packages (from umap-learn) (0.23.1)\nRequirement already satisfied: numpy>=1.17 in /home/saehrimnir/.local/lib/python3.8/site-packages (from umap-learn) (1.18.5)\nRequirement already satisfied: llvmlite<0.34,>=0.33.0.dev0 in /home/saehrimnir/.local/lib/python3.8/site-packages (from numba!=0.47,>=0.46->umap-learn) (0.33.0)\nRequirement already satisfied: setuptools in /usr/lib/python3.8/site-packages (from numba!=0.47,>=0.46->umap-learn) (47.1.1)\nRequirement already satisfied: threadpoolctl>=2.0.0 in /home/saehrimnir/.local/lib/python3.8/site-packages (from scikit-learn>=0.20->umap-learn) (2.1.0)\nRequirement already satisfied: joblib>=0.11 in /home/saehrimnir/.local/lib/python3.8/site-packages (from scikit-learn>=0.20->umap-learn) (0.15.1)\n"
    }
   ],
   "source": [
    "!pip install umap-learn\n",
    "from sklearn.decomposition import PCA\n",
    "from sklearn.manifold import Isomap, MDS, TSNE, LocallyLinearEmbedding as LLE\n",
    "from umap import UMAP \n",
    "import numpy as np\n",
    "import random\n",
    "import math\n",
    "import datetime"
   ]
  },
  {
   "cell_type": "code",
   "execution_count": 9,
   "metadata": {},
   "outputs": [],
   "source": [
    "max_D = 8;\n",
    "max_N = 35;"
   ]
  },
  {
   "cell_type": "code",
   "execution_count": 10,
   "metadata": {},
   "outputs": [],
   "source": [
    "max_D = 2;\n",
    "max_N = 3;"
   ]
  },
  {
   "cell_type": "code",
   "execution_count": 15,
   "metadata": {
    "tags": []
   },
   "outputs": [],
   "source": [
    "def benchmark(DR, key):#warmup\n",
    "    print(\"start warmup\")\n",
    "    for _ in range(100):\n",
    "        X = np.array([[random.random() for _ in range(50)] for _ in range(50)])\n",
    "        dr = DR(n_components=2)\n",
    "        if key == \"TSNE\" or key == \"UMAP\":\n",
    "            dr.n_iter = 300\n",
    "        dr.fit_transform(X=X)\n",
    "    print(\"end warmup\")\n",
    "    finish_row = True\n",
    "\n",
    "    B = []\n",
    "    for D in range(max_D):\n",
    "        d = math.floor(2 * 5**((D+1)/2))\n",
    "        finish_row = True\n",
    "        Brow =[]\n",
    "        for N in range(max_N):\n",
    "            if not finish_row:\n",
    "                Brow.append(0)\n",
    "                break;\n",
    "            n = math.floor(16 + 2 ** (N/2 + 1))\n",
    "            X = np.array([[random.random() for _ in range(d)] for _ in range(n)])\n",
    "            dur = []\n",
    "            for i in range(5):\n",
    "                #m = []\n",
    "                start = datetime.datetime.now()\n",
    "                #m.append(start)\n",
    "                dr = DR(n_components=2)\n",
    "                if key == \"TSNE\" or key == \"UMAP\":\n",
    "                    dr.n_iter = 350\n",
    "                mid = datetime.datetime.now()\n",
    "                #m.append(datetime.datetime.now())\n",
    "                dr.fit_transform(X=X)\n",
    "                ende = datetime.datetime.now()\n",
    "                #m.append(datetime.datetime.now())\n",
    "                m = [0, (mid-start).microseconds, (ende-start).microseconds]\n",
    "                dur.append(m)\n",
    "                \n",
    "                if (m[2]-m[0]) > 10000:\n",
    "                    finish_row = False\n",
    "\n",
    "            print(key, d, n, (dur[0][2] - dur[0][0]))\n",
    "                \n",
    "            Brow.append({\n",
    "                \"d\": d, \n",
    "                \"n\": n, \n",
    "                \"dur\": dur\n",
    "            })\n",
    "        B.append(Brow)\n",
    "        print(\"\\n\")\n",
    "    return B\n",
    "        "
   ]
  },
  {
   "cell_type": "code",
   "execution_count": 16,
   "metadata": {
    "tags": []
   },
   "outputs": [
    {
     "output_type": "stream",
     "name": "stdout",
     "text": "start warmup\nend warmup\nPCA 4 18 457\nPCA 4 18 433\nPCA 4 20 450\n\n\nPCA 10 18 533\n\n\nstart warmup\nend warmup\nLLE 4 18 13677\n\n\nLLE 10 18 14672\n\n\nstart warmup\nend warmup\nTSNE 4 18 620708\n\n\nTSNE 10 18 855389\n\n\nstart warmup\nend warmup\nMDS 4 18 41933\n\n\nMDS 10 18 45668\n\n\nstart warmup\nend warmup\nISOMAP 4 18 4753\nISOMAP 4 18 2684\nISOMAP 4 20 2298\n\n\nISOMAP 10 18 2299\nISOMAP 10 18 8000\nISOMAP 10 20 2323\n\n\nstart warmup\nend warmup\nUMAP 4 18 746774\n\n\nUMAP 10 18 404776\n\n\n"
    }
   ],
   "source": [
    "\n",
    "DRS = [(\"PCA\", PCA), (\"LLE\", LLE), (\"TSNE\", TSNE), (\"MDS\", MDS), (\"ISOMAP\", Isomap), (\"UMAP\", UMAP)];\n",
    "data = {key: benchmark(dr, key) for key, dr in DRS}"
   ]
  },
  {
   "cell_type": "code",
   "execution_count": 14,
   "metadata": {},
   "outputs": [
    {
     "output_type": "execute_result",
     "data": {
      "text/plain": "array([[13.904811 ,  4.11056  ],\n       [14.375581 ,  4.141954 ],\n       [15.313006 ,  5.25684  ],\n       [13.280466 ,  2.6915383],\n       [12.041059 ,  3.3538716],\n       [13.482438 ,  5.122705 ],\n       [13.092803 ,  5.2630053],\n       [13.420813 ,  3.23396  ],\n       [12.435982 ,  2.5387237],\n       [14.781585 ,  5.072996 ],\n       [14.294834 ,  2.4324858],\n       [13.264921 ,  2.2034035],\n       [13.304391 ,  4.1798015],\n       [14.453853 ,  2.8987548],\n       [14.036663 ,  5.050653 ],\n       [12.508852 ,  2.9414828],\n       [13.010949 ,  2.891356 ],\n       [12.769452 ,  4.0633454],\n       [12.883293 ,  3.487293 ],\n       [15.798666 ,  4.1991005],\n       [12.878168 ,  2.5293286],\n       [14.470993 ,  4.8106375],\n       [12.1687155,  4.1941466],\n       [12.52111  ,  5.308114 ],\n       [13.483646 ,  5.485371 ],\n       [14.577585 ,  3.3630981],\n       [14.844247 ,  3.798415 ],\n       [11.8213825,  3.706202 ],\n       [12.867373 ,  4.465744 ],\n       [15.21049  ,  3.4710505],\n       [14.82925  ,  2.6183896],\n       [13.744414 ,  3.2492063],\n       [12.71311  ,  4.875593 ],\n       [15.026438 ,  4.641261 ],\n       [14.668691 ,  4.267501 ],\n       [15.722353 ,  3.306366 ],\n       [14.222927 ,  5.4047966],\n       [12.261065 ,  4.787554 ],\n       [14.194157 ,  3.7417102],\n       [14.00764  ,  5.680428 ],\n       [13.402034 ,  3.7695606],\n       [13.636112 ,  4.302527 ],\n       [14.152409 ,  3.3485765],\n       [12.514081 ,  3.7759395],\n       [15.68268  ,  3.6795967],\n       [13.023678 ,  4.838933 ],\n       [15.252231 ,  4.952635 ],\n       [15.749756 ,  4.8558965],\n       [13.7174835,  2.8305748],\n       [14.993648 ,  3.025178 ]], dtype=float32)"
     },
     "metadata": {},
     "execution_count": 14
    }
   ],
   "source": [
    "#X = np.array([[random.random() for _ in range(50)] for _ in range(50)])\n",
    "#dr = UMAP(n_components=2)\n",
    "#dr.n_iter = 300\n",
    "#dr.fit_transform(X=X)"
   ]
  },
  {
   "cell_type": "code",
   "execution_count": null,
   "metadata": {},
   "outputs": [],
   "source": []
  }
 ],
 "metadata": {
  "language_info": {
   "codemirror_mode": {
    "name": "ipython",
    "version": 3
   },
   "file_extension": ".py",
   "mimetype": "text/x-python",
   "name": "python",
   "nbconvert_exporter": "python",
   "pygments_lexer": "ipython3",
   "version": "3.8.3-final"
  },
  "orig_nbformat": 2,
  "kernelspec": {
   "name": "python38364bit99bac044755b46eaa71154798e6cc15f",
   "display_name": "Python 3.8.3 64-bit"
  }
 },
 "nbformat": 4,
 "nbformat_minor": 2
}